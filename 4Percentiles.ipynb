{
  "nbformat": 4,
  "nbformat_minor": 0,
  "metadata": {
    "colab": {
      "provenance": [],
      "authorship_tag": "ABX9TyNiRtTFyXp7b2z03DFLpPGI",
      "include_colab_link": true
    },
    "kernelspec": {
      "name": "python3",
      "display_name": "Python 3"
    },
    "language_info": {
      "name": "python"
    }
  },
  "cells": [
    {
      "cell_type": "markdown",
      "metadata": {
        "id": "view-in-github",
        "colab_type": "text"
      },
      "source": [
        "<a href=\"https://colab.research.google.com/github/ajrianop/Data-Science-with-Python/blob/main/4Percentiles.ipynb\" target=\"_parent\"><img src=\"https://colab.research.google.com/assets/colab-badge.svg\" alt=\"Open In Colab\"/></a>"
      ]
    },
    {
      "cell_type": "markdown",
      "source": [
        "# **Percentiles**"
      ],
      "metadata": {
        "id": "h_AH8RR-dcKj"
      }
    },
    {
      "cell_type": "markdown",
      "source": [
        "Percentiles are valuable for summarizing the distribution. We can describe this as:\n",
        "\n",
        "\n",
        "*   Quartiles 25th, 50th and 75th percentiles \n",
        "*   Deciles 10th, 20th, 30th, 40th, ... , 80th, 90th percentiles\n",
        "\n"
      ],
      "metadata": {
        "id": "KeK2jHAUdh1g"
      }
    },
    {
      "cell_type": "markdown",
      "source": [
        "Look for interquartile range"
      ],
      "metadata": {
        "id": "j-TVTEM1lrYI"
      }
    },
    {
      "cell_type": "markdown",
      "source": [
        "## **Example**"
      ],
      "metadata": {
        "id": "kgIpIPR8l-Oa"
      }
    },
    {
      "cell_type": "markdown",
      "source": [
        "Let us consider a random normal distribution with mean approximatly 0 and standard deviation 1"
      ],
      "metadata": {
        "id": "zl6pGn2imOzf"
      }
    },
    {
      "cell_type": "code",
      "source": [
        "import numpy as np\n",
        "import matplotlib.pyplot as plt\n",
        "# Random normal distribution mean 0 an std 1, with 10000 elements\n",
        "vals = np.random.normal(0, 1, 10000)\n",
        "#Plotting an histogram with an interval division in 50 pieces\n",
        "plt.hist(vals, 50)\n",
        "plt.show()"
      ],
      "metadata": {
        "colab": {
          "base_uri": "https://localhost:8080/",
          "height": 265
        },
        "id": "NuCTr0BdkGAY",
        "outputId": "3daf44ac-a0de-4bda-f3b4-30f67bc9a524"
      },
      "execution_count": 2,
      "outputs": [
        {
          "output_type": "display_data",
          "data": {
            "text/plain": [
              "<Figure size 432x288 with 1 Axes>"
            ],
            "image/png": "[encoded data removed]"
          },
          "metadata": {
            "needs_background": "light"
          }
        }
      ]
    },
    {
      "cell_type": "markdown",
      "source": [
        "We want to compute the percentile associated to "
      ],
      "metadata": {
        "id": "Oc56ho-Fm82_"
      }
    },
    {
      "cell_type": "code",
      "execution_count": 3,
      "metadata": {
        "colab": {
          "base_uri": "https://localhost:8080/"
        },
        "id": "agnt8I7VdbkM",
        "outputId": "8dc70432-d49b-444b-d96f-602330d751a0"
      },
      "outputs": [
        {
          "output_type": "execute_result",
          "data": {
            "text/plain": [
              "-0.00592989879982159"
            ]
          },
          "metadata": {},
          "execution_count": 3
        }
      ],
      "source": [
        "perc_50th=np.percentile(vals, 50)\n",
        "perc_50th"
      ]
    },
    {
      "cell_type": "code",
      "source": [
        "perc_90th=np.percentile(vals, 90)\n",
        "perc_90th"
      ],
      "metadata": {
        "colab": {
          "base_uri": "https://localhost:8080/"
        },
        "id": "-xoEe2SsnUJV",
        "outputId": "35727b6d-6045-416d-a667-747496c930be"
      },
      "execution_count": 4,
      "outputs": [
        {
          "output_type": "execute_result",
          "data": {
            "text/plain": [
              "1.2772000472438807"
            ]
          },
          "metadata": {},
          "execution_count": 4
        }
      ]
    },
    {
      "cell_type": "code",
      "source": [
        "perc_20th=np.percentile(vals, 20)\n",
        "perc_20th"
      ],
      "metadata": {
        "colab": {
          "base_uri": "https://localhost:8080/"
        },
        "id": "bwm5LqIungvS",
        "outputId": "da5b5f11-1211-4a1f-cfa2-31e9f914a2ad"
      },
      "execution_count": 5,
      "outputs": [
        {
          "output_type": "execute_result",
          "data": {
            "text/plain": [
              "-0.8505999352666477"
            ]
          },
          "metadata": {},
          "execution_count": 5
        }
      ]
    },
    {
      "cell_type": "code",
      "source": [
        "def deciles(arr):\n",
        "  lst=np.linspace(0,100,11)\n",
        "  plt.figure(figsize = (20, 7))\n",
        "  plt.hist(vals,50)\n",
        "  plt.title('Deciles')\n",
        "  max=np.amax(arr)\n",
        "  for i in lst:\n",
        "    perc_ith=np.percentile(vals,i)\n",
        "    print(f'The {i}th percentile is {perc_ith}')\n",
        "    # lines that describes the quartiles\n",
        "    #plt.axvline(x = perc_ith, color = 'r', label = 'axvline - full height')\n",
        "    plt.axvline(x = perc_ith, ymin = 0, ymax = 0.95, color = 'r',\n",
        "            label = 'axvline - % of full height')\n",
        "    info_perc_th=str(i)+'th'\n",
        "    plt.text(perc_ith, 1, info_perc_th, bbox=dict(facecolor='magenta', alpha=0.5))\n",
        "  plt.show()\n",
        "\n",
        "deciles(vals)"
      ],
      "metadata": {
        "colab": {
          "base_uri": "https://localhost:8080/",
          "height": 635
        },
        "id": "8iVmFpuWnm5O",
        "outputId": "75a224d3-9353-47ca-a2ac-29d16020f7ee"
      },
      "execution_count": 29,
      "outputs": [
        {
          "output_type": "stream",
          "name": "stdout",
          "text": [
            "The 0.0th percentile is -3.9425156691270984\n",
            "The 10.0th percentile is -1.2709154824824922\n",
            "The 20.0th percentile is -0.8395261186386758\n",
            "The 30.0th percentile is -0.5265504536646857\n",
            "The 40.0th percentile is -0.257372766824989\n",
            "The 50.0th percentile is 0.0009520661009257243\n",
            "The 60.0th percentile is 0.25034111973973844\n",
            "The 70.0th percentile is 0.5140570951692912\n",
            "The 80.0th percentile is 0.8485478275596756\n",
            "The 90.0th percentile is 1.2797964866808227\n",
            "The 100.0th percentile is 4.167136537846711\n"
          ]
        },
        {
          "output_type": "display_data",
          "data": {
            "text/plain": [
              "<Figure size 1440x504 with 1 Axes>"
            ],
            "image/png": "[encoded data removed]"
          },
          "metadata": {
            "needs_background": "light"
          }
        }
      ]
    },
    {
      "cell_type": "code",
      "source": [
        "def quartiles(arr):\n",
        "  lst=np.linspace(0,100,5)\n",
        "  plt.figure(figsize = (20, 7))\n",
        "  plt.hist(vals,50)\n",
        "  plt.title('Quartiles')\n",
        "  for i in lst:\n",
        "    perc_ith=np.percentile(vals,i)\n",
        "    print(f'The {i}th percentile is {perc_ith}')\n",
        "    # lines that describes the quartiles\n",
        "    plt.axvline(x = perc_ith, color = 'r', label = 'axvline - full height')\n",
        "    info_perc_th=str(i)+'th'\n",
        "    plt.text(perc_ith, 1, info_perc_th, bbox=dict(facecolor='magenta', alpha=0.5))\n",
        "  plt.show()\n",
        "\n",
        "quartiles(vals)"
      ],
      "metadata": {
        "colab": {
          "base_uri": "https://localhost:8080/",
          "height": 531
        },
        "id": "ZIpAbr6JfnVp",
        "outputId": "81d2a1cc-a208-46ff-dd3a-e85ec142d380"
      },
      "execution_count": 31,
      "outputs": [
        {
          "output_type": "stream",
          "name": "stdout",
          "text": [
            "The 0.0th percentile is -3.9425156691270984\n",
            "The 25.0th percentile is -0.682658194215753\n",
            "The 50.0th percentile is 0.0009520661009257243\n",
            "The 75.0th percentile is 0.6733454298215348\n",
            "The 100.0th percentile is 4.167136537846711\n"
          ]
        },
        {
          "output_type": "display_data",
          "data": {
            "text/plain": [
              "<Figure size 1440x504 with 1 Axes>"
            ],
            "image/png": "[encoded data removed]"
          },
          "metadata": {
            "needs_background": "light"
          }
        }
      ]
    },
    {
      "cell_type": "markdown",
      "source": [
        "## **Moments**"
      ],
      "metadata": {
        "id": "SXFCkA0liXTx"
      }
    },
    {
      "cell_type": "markdown",
      "source": [
        "Moments are the ways to measure the shape of the data distribution, they are described as $$\\mu_n=\\int \\limits_{-\\infty}^{\\infty} (x-c)^nf(x)dx$$ is a moment $n$ around $c.$\n",
        "\n",
        "1.   The first moments is the mean.\n",
        "$$\\mu_1=\\int \\limits_{-\\infty}^{\\infty} (x-c)f(x)dx.$$\n",
        "2.   The second moment is the variance.\n",
        "$$\\mu_2=\\int \\limits_{-\\infty}^{\\infty} (x-c)^2f(x)dx.$$\n",
        "3. The third moment is the \"skew\" $\\gamma$, so a distribution:\n",
        "  * with a longer tail on the left will be skewed left, and have negative skew.\n",
        "  * with a longer tail on the right will be skewed right and have positive skew.\n",
        "  \n",
        "$$\\mu_3=\\int \\limits_{-\\infty}^{\\infty} (x-c)^3f(x)dx.$$\n",
        "4. The fouth moment is the kurtosis, this described how thick is the tail and how shark is the peak. So the higher peak implies a higher kurtosis.\n",
        "\n",
        "$$\\mu_4=\\int \\limits_{-\\infty}^{\\infty} (x-c)^4f(x)dx.$$\n",
        "\n",
        "\n",
        "\n"
      ],
      "metadata": {
        "id": "l01lyrDdiZMs"
      }
    },
    {
      "cell_type": "code",
      "source": [
        "import numpy as np\n",
        "import matplotlib.pyplot as plt\n",
        "# Random normal distribution mean 0 an std 1, with 10000 elements\n",
        "vals = np.random.normal(0, 1, 10000)\n",
        "#Plotting an histogram with an interval division in 50 pieces\n",
        "plt.hist(vals, 50)\n",
        "plt.show()"
      ],
      "metadata": {
        "colab": {
          "base_uri": "https://localhost:8080/",
          "height": 265
        },
        "id": "lQtX0aY4i8cl",
        "outputId": "f138ab24-01c1-4240-91bf-825ff562aa72"
      },
      "execution_count": 8,
      "outputs": [
        {
          "output_type": "display_data",
          "data": {
            "text/plain": [
              "<Figure size 432x288 with 1 Axes>"
            ],
            "image/png": "[encoded data removed]"
          },
          "metadata": {
            "needs_background": "light"
          }
        }
      ]
    },
    {
      "cell_type": "markdown",
      "source": [
        "First moment (mean)"
      ],
      "metadata": {
        "id": "QNqJ9QhsmMkz"
      }
    },
    {
      "cell_type": "code",
      "source": [
        "#First moment\n",
        "mean=np.mean(vals)\n",
        "mean"
      ],
      "metadata": {
        "colab": {
          "base_uri": "https://localhost:8080/"
        },
        "id": "2hWK1rVgmFnZ",
        "outputId": "cfe6b693-8990-4013-b8c7-57c7e109b44c"
      },
      "execution_count": 9,
      "outputs": [
        {
          "output_type": "execute_result",
          "data": {
            "text/plain": [
              "0.0006594710560823277"
            ]
          },
          "metadata": {},
          "execution_count": 9
        }
      ]
    },
    {
      "cell_type": "markdown",
      "source": [
        "Second moment (variance)"
      ],
      "metadata": {
        "id": "jgR2vOX-maXU"
      }
    },
    {
      "cell_type": "code",
      "source": [
        "#Second moment\n",
        "var=np.var(vals)\n",
        "var"
      ],
      "metadata": {
        "colab": {
          "base_uri": "https://localhost:8080/"
        },
        "id": "PhNjQHpZmRq-",
        "outputId": "499a10c9-4042-4b2e-8def-5c8ed57afe0b"
      },
      "execution_count": 10,
      "outputs": [
        {
          "output_type": "execute_result",
          "data": {
            "text/plain": [
              "0.9909229615860528"
            ]
          },
          "metadata": {},
          "execution_count": 10
        }
      ]
    },
    {
      "cell_type": "markdown",
      "source": [
        "Third moment is the skewness"
      ],
      "metadata": {
        "id": "W24sPpGzmhEd"
      }
    },
    {
      "cell_type": "code",
      "source": [
        "import scipy.stats as sp\n",
        "skew=sp.skew(vals)\n",
        "skew"
      ],
      "metadata": {
        "colab": {
          "base_uri": "https://localhost:8080/"
        },
        "id": "9h-wtUZQmnU3",
        "outputId": "da753894-84e2-4e78-ee61-1ae667e9583b"
      },
      "execution_count": 11,
      "outputs": [
        {
          "output_type": "execute_result",
          "data": {
            "text/plain": [
              "0.009557121323784022"
            ]
          },
          "metadata": {},
          "execution_count": 11
        }
      ]
    },
    {
      "cell_type": "markdown",
      "source": [
        "Fouth moment (kurtosis)"
      ],
      "metadata": {
        "id": "8oYrRmQxmuHb"
      }
    },
    {
      "cell_type": "code",
      "source": [
        "kur=sp.kurtosis(vals)\n",
        "kur"
      ],
      "metadata": {
        "colab": {
          "base_uri": "https://localhost:8080/"
        },
        "id": "zXE_5t-2mzBb",
        "outputId": "da735676-f1a7-45b8-a02f-8d4411ac1af2"
      },
      "execution_count": 12,
      "outputs": [
        {
          "output_type": "execute_result",
          "data": {
            "text/plain": [
              "0.022171429547279242"
            ]
          },
          "metadata": {},
          "execution_count": 12
        }
      ]
    }
  ]
}